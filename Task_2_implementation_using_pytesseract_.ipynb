{
  "nbformat": 4,
  "nbformat_minor": 0,
  "metadata": {
    "colab": {
      "provenance": []
    },
    "kernelspec": {
      "name": "python3",
      "display_name": "Python 3"
    },
    "language_info": {
      "name": "python"
    }
  },
  "cells": [
    {
      "cell_type": "code",
      "source": [
        "pip install PyMuPDF opencv-python numpy\n"
      ],
      "metadata": {
        "colab": {
          "base_uri": "https://localhost:8080/"
        },
        "id": "FDzFc9rTcKmG",
        "outputId": "0fd608d2-bed1-4d51-b186-81fa6a3f66fc"
      },
      "execution_count": 41,
      "outputs": [
        {
          "output_type": "stream",
          "name": "stdout",
          "text": [
            "Requirement already satisfied: PyMuPDF in /usr/local/lib/python3.10/dist-packages (1.23.7)\n",
            "Requirement already satisfied: opencv-python in /usr/local/lib/python3.10/dist-packages (4.8.0.76)\n",
            "Requirement already satisfied: numpy in /usr/local/lib/python3.10/dist-packages (1.23.5)\n",
            "Requirement already satisfied: PyMuPDFb==1.23.7 in /usr/local/lib/python3.10/dist-packages (from PyMuPDF) (1.23.7)\n"
          ]
        }
      ]
    },
    {
      "cell_type": "code",
      "source": [
        "import pdfplumber"
      ],
      "metadata": {
        "id": "2HXTFUmUcWpz"
      },
      "execution_count": 42,
      "outputs": []
    },
    {
      "cell_type": "code",
      "source": [
        "pip install pdfplumber"
      ],
      "metadata": {
        "colab": {
          "base_uri": "https://localhost:8080/"
        },
        "id": "HGGKjQyyiFz3",
        "outputId": "e7d4f824-ec9f-42d6-92df-0c00e7a41f07"
      },
      "execution_count": 43,
      "outputs": [
        {
          "output_type": "stream",
          "name": "stdout",
          "text": [
            "Requirement already satisfied: pdfplumber in /usr/local/lib/python3.10/dist-packages (0.10.3)\n",
            "Requirement already satisfied: pdfminer.six==20221105 in /usr/local/lib/python3.10/dist-packages (from pdfplumber) (20221105)\n",
            "Requirement already satisfied: Pillow>=9.1 in /usr/local/lib/python3.10/dist-packages (from pdfplumber) (9.4.0)\n",
            "Requirement already satisfied: pypdfium2>=4.18.0 in /usr/local/lib/python3.10/dist-packages (from pdfplumber) (4.24.0)\n",
            "Requirement already satisfied: charset-normalizer>=2.0.0 in /usr/local/lib/python3.10/dist-packages (from pdfminer.six==20221105->pdfplumber) (3.3.2)\n",
            "Requirement already satisfied: cryptography>=36.0.0 in /usr/local/lib/python3.10/dist-packages (from pdfminer.six==20221105->pdfplumber) (41.0.7)\n",
            "Requirement already satisfied: cffi>=1.12 in /usr/local/lib/python3.10/dist-packages (from cryptography>=36.0.0->pdfminer.six==20221105->pdfplumber) (1.16.0)\n",
            "Requirement already satisfied: pycparser in /usr/local/lib/python3.10/dist-packages (from cffi>=1.12->cryptography>=36.0.0->pdfminer.six==20221105->pdfplumber) (2.21)\n"
          ]
        }
      ]
    },
    {
      "cell_type": "code",
      "source": [
        "pip install pdf2image pytesseract"
      ],
      "metadata": {
        "colab": {
          "base_uri": "https://localhost:8080/"
        },
        "id": "RETqe1tClmAm",
        "outputId": "e62402eb-0308-41d6-a334-4578fedf7488"
      },
      "execution_count": 44,
      "outputs": [
        {
          "output_type": "stream",
          "name": "stdout",
          "text": [
            "Requirement already satisfied: pdf2image in /usr/local/lib/python3.10/dist-packages (1.16.3)\n",
            "Requirement already satisfied: pytesseract in /usr/local/lib/python3.10/dist-packages (0.3.10)\n",
            "Requirement already satisfied: pillow in /usr/local/lib/python3.10/dist-packages (from pdf2image) (9.4.0)\n",
            "Requirement already satisfied: packaging>=21.3 in /usr/local/lib/python3.10/dist-packages (from pytesseract) (23.2)\n"
          ]
        }
      ]
    },
    {
      "cell_type": "code",
      "source": [
        "import json\n",
        "from pdf2image import convert_from_path\n",
        "from PIL import Image"
      ],
      "metadata": {
        "id": "m3Uk7S8nldD5"
      },
      "execution_count": 45,
      "outputs": []
    },
    {
      "cell_type": "code",
      "source": [
        "def extract_text_from_bbox(image, bbox):\n",
        "    x1, y1, x2, y2, x3, y3, x4, y4 = bbox\n",
        "\n",
        "    # Ensure bounding box coordinates are within image dimensions\n",
        "    img_width, img_height = image.size\n",
        "    x1, x2, x3, x4 = map(lambda x: max(0, min(x, img_width)), [x1, x2, x3, x4])\n",
        "    y1, y2, y3, y4 = map(lambda y: max(0, min(y, img_height)), [y1, y2, y3, y4])\n",
        "\n",
        "    # Extract text within the corrected bounding box\n",
        "    roi = image.crop((x1, y1, x3, y3))\n",
        "    return pytesseract.image_to_string(roi).strip()\n",
        "\n",
        "def extract_information_from_images(pdf_path, bounding_boxes):\n",
        "    # Convert PDF to images\n",
        "    images = convert_from_path(pdf_path)\n",
        "\n",
        "    extracted_info = {}\n",
        "\n",
        "    for page_number, image in enumerate(images, start=1):\n",
        "        for box_info in bounding_boxes:\n",
        "            for label, bbox in box_info.items():\n",
        "                text_in_bbox = extract_text_from_bbox(image, bbox)\n",
        "                key = f\"{label}_Page_{page_number}\"\n",
        "                extracted_info[key] = text_in_bbox\n",
        "\n",
        "    return extracted_info"
      ],
      "metadata": {
        "id": "c_sMdWieltsT"
      },
      "execution_count": 46,
      "outputs": []
    },
    {
      "cell_type": "code",
      "source": [
        "# Install Poppler\n",
        "!apt-get install -y poppler-utils\n"
      ],
      "metadata": {
        "colab": {
          "base_uri": "https://localhost:8080/"
        },
        "id": "7751ONyimHkh",
        "outputId": "0b1bbfd5-b265-4427-abd7-fde01ed19f35"
      },
      "execution_count": 47,
      "outputs": [
        {
          "output_type": "stream",
          "name": "stdout",
          "text": [
            "Reading package lists... Done\n",
            "Building dependency tree... Done\n",
            "Reading state information... Done\n",
            "poppler-utils is already the newest version (22.02.0-2ubuntu0.3).\n",
            "0 upgraded, 0 newly installed, 0 to remove and 15 not upgraded.\n"
          ]
        }
      ]
    },
    {
      "cell_type": "code",
      "source": [
        "# Install pytesseract and Tesseract OCR engine\n",
        "!apt install tesseract-ocr\n",
        "!pip install pytesseract\n",
        "\n",
        "# Import pytesseract after installation\n",
        "import pytesseract\n"
      ],
      "metadata": {
        "colab": {
          "base_uri": "https://localhost:8080/"
        },
        "id": "kEaoeJQ3mkaV",
        "outputId": "20b4fcd7-96d5-498e-ff85-d72b0eb42df9"
      },
      "execution_count": 48,
      "outputs": [
        {
          "output_type": "stream",
          "name": "stdout",
          "text": [
            "Reading package lists... Done\n",
            "Building dependency tree... Done\n",
            "Reading state information... Done\n",
            "tesseract-ocr is already the newest version (4.1.1-2.1build1).\n",
            "0 upgraded, 0 newly installed, 0 to remove and 15 not upgraded.\n",
            "Requirement already satisfied: pytesseract in /usr/local/lib/python3.10/dist-packages (0.3.10)\n",
            "Requirement already satisfied: packaging>=21.3 in /usr/local/lib/python3.10/dist-packages (from pytesseract) (23.2)\n",
            "Requirement already satisfied: Pillow>=8.0.0 in /usr/local/lib/python3.10/dist-packages (from pytesseract) (9.4.0)\n"
          ]
        }
      ]
    },
    {
      "cell_type": "code",
      "source": [
        "import fitz  # PyMuPDF\n",
        "from PIL import Image\n",
        "import pytesseract\n"
      ],
      "metadata": {
        "id": "kQBkAT6mmIby"
      },
      "execution_count": 51,
      "outputs": []
    },
    {
      "cell_type": "code",
      "source": [
        "json_data = [\n",
        "    {\"06/10/2021\": [6.8505, 0.2667, 7.6672, 0.2634, 7.6638, 0.4267, 6.8471, 0.4267]},\n",
        "    {\"Company\": [1.3234, 0.6234, 1.9968, 0.6267, 1.9801, 0.8167, 1.3201, 0.8034]},\n",
        "    # Add other bounding boxes as needed\n",
        "]\n"
      ],
      "metadata": {
        "id": "pgOxGosAncWM"
      },
      "execution_count": 52,
      "outputs": []
    },
    {
      "cell_type": "code",
      "source": [
        "pdf_path = \"sample_invoice.pdf\"  # Replace with the actual path to your PDF file\n",
        "pdf_document = fitz.open(pdf_path)"
      ],
      "metadata": {
        "id": "AyHRgZDlnf3g"
      },
      "execution_count": 53,
      "outputs": []
    },
    {
      "cell_type": "code",
      "source": [
        "def extract_text_from_bbox(page, bbox):\n",
        "    x1, y1, x2, y2, x3, y3, x4, y4 = bbox\n",
        "\n",
        "    # Extract text within the bounding box\n",
        "    rect = fitz.Rect(x1, y1, x3, y3)\n",
        "    roi = page.get_text(\"text\", clip=rect)\n",
        "    return roi.strip()"
      ],
      "metadata": {
        "id": "RYKi7rHdni83"
      },
      "execution_count": 54,
      "outputs": []
    },
    {
      "cell_type": "code",
      "source": [
        "page_number = 0  # Single-page PDF, so only one page (0-based index)\n",
        "page = pdf_document[page_number]\n",
        "image = page.get_pixmap()\n",
        "\n",
        "# Process each bounding box on the current page\n",
        "for bbox_info in json_data:\n",
        "    key, bbox = next(iter(bbox_info.items()))\n",
        "    text = extract_text_from_bbox(page, bbox)\n",
        "    print(f\"{key}: {text}\")"
      ],
      "metadata": {
        "colab": {
          "base_uri": "https://localhost:8080/"
        },
        "id": "uOFeFU7ZnmHg",
        "outputId": "479af337-f007-4f35-a842-4d7ca8b12e6c"
      },
      "execution_count": 55,
      "outputs": [
        {
          "output_type": "stream",
          "name": "stdout",
          "text": [
            "06/10/2021: \n",
            "Company: \n"
          ]
        }
      ]
    },
    {
      "cell_type": "code",
      "source": [
        "pil_image = Image.frombytes(\"RGB\", (image.width, image.height), image.samples)\n"
      ],
      "metadata": {
        "id": "rG5DEUpbno2O"
      },
      "execution_count": 56,
      "outputs": []
    },
    {
      "cell_type": "code",
      "source": [
        "ocr_text = pytesseract.image_to_string(pil_image).strip()\n",
        "print(f\"OCR Text (Page {page_number + 1}): {ocr_text}\")\n",
        "\n",
        "# Close the PDF document\n",
        "#pdf_document.close()"
      ],
      "metadata": {
        "colab": {
          "base_uri": "https://localhost:8080/"
        },
        "id": "c05bkcVYn6fS",
        "outputId": "e1376357-8835-444a-c585-59340e7faf26"
      },
      "execution_count": 58,
      "outputs": [
        {
          "output_type": "stream",
          "name": "stdout",
          "text": [
            "OCR Text (Page 1): 06/10/2021\n",
            "\n",
            " \n",
            "\n",
            "7 INVO-005\n",
            "Gey Sample Invoice\n",
            "Billing Information Shipping Information\n",
            "Company Name Name\n",
            "‘ABC Company John Smith ‘Sam K. Smith\n",
            "‘Address Address\n",
            "111 Pine Street, Suite 1815 111 Pine Street, Suite 1815\n",
            "San Francisco, CA, 94111 San Francisco, CA, 94111\n",
            "Phone Number\n",
            "(123) 123-1232\n",
            "Email\n",
            "\n",
            "John@example.com\n",
            "\n",
            " \n",
            "\n",
            "Description Quantity Unt Price Total\n",
            "ProductService 1 Sink 2 100 200\n",
            "ProductService2 Nest Smart Fier 1 150 150\n",
            "ProductiService3 Labor Fee 1 50 $50\n",
            "ProducvSenices Service Fee 1 8 925\n",
            "\n",
            "Total: $425\n"
          ]
        }
      ]
    },
    {
      "cell_type": "code",
      "source": [],
      "metadata": {
        "id": "PDEsZULCn-DQ"
      },
      "execution_count": null,
      "outputs": []
    }
  ]
}