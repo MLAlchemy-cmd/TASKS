{
 "cells": [
  {
   "cell_type": "code",
   "execution_count": null,
   "id": "0e56223d",
   "metadata": {},
   "outputs": [],
   "source": [
    "#TASK -1IMPLEMENTATION"
   ]
  },
  {
   "cell_type": "code",
   "execution_count": 15,
   "id": "37855d9e",
   "metadata": {},
   "outputs": [
    {
     "name": "stdout",
     "output_type": "stream",
     "text": [
      "enter the number of elements5\n",
      "1\n",
      "2\n",
      "3\n",
      "4\n",
      "5\n",
      "the food list is [1, 2, 3, 4, 5]\n",
      "enter the number of people5\n",
      "3\n",
      "4\n",
      "5\n",
      "1\n",
      "2\n",
      "the people list is [3, 4, 5, 1, 2]\n"
     ]
    }
   ],
   "source": [
    "food_list=[]\n",
    "n = int(input(\"enter the number of elements\"))\n",
    "for i in range (0,n):\n",
    "    ele = int(input())\n",
    "    food_list.append(ele)\n",
    "print(\"the food list is\",food_list)\n",
    "ppl_list=[]\n",
    "m = int(input(\"enter the number of people\"))\n",
    "for i in range (0,m):\n",
    "    ele = int(input())\n",
    "    ppl_list.append(ele)\n",
    "print(\"the people list is\",ppl_list)\n",
    "    \n",
    "    \n",
    "    "
   ]
  },
  {
   "cell_type": "code",
   "execution_count": 21,
   "id": "ba93071a",
   "metadata": {},
   "outputs": [
    {
     "name": "stdout",
     "output_type": "stream",
     "text": [
      "3\n"
     ]
    }
   ],
   "source": [
    "for index1 in range(m):\n",
    "    remaining_food = 0\n",
    "    current_index = index1\n",
    "    for _ in range(m):\n",
    "        remaining_food+=food_list[current_index]-ppl_list[current_index]\n",
    "        if remaining_food<0 :\n",
    "            break\n",
    "        current_index = (current_index+1) % m\n",
    "    if remaining_food >=0:\n",
    "            print(index1)\n",
    "            break\n",
    "else : \n",
    "            print (\"-1\")\n",
    "  "
   ]
  },
  {
   "cell_type": "code",
   "execution_count": null,
   "id": "6eb9330f",
   "metadata": {},
   "outputs": [],
   "source": []
  }
 ],
 "metadata": {
  "kernelspec": {
   "display_name": "Python 3 (ipykernel)",
   "language": "python",
   "name": "python3"
  },
  "language_info": {
   "codemirror_mode": {
    "name": "ipython",
    "version": 3
   },
   "file_extension": ".py",
   "mimetype": "text/x-python",
   "name": "python",
   "nbconvert_exporter": "python",
   "pygments_lexer": "ipython3",
   "version": "3.11.5"
  }
 },
 "nbformat": 4,
 "nbformat_minor": 5
}
